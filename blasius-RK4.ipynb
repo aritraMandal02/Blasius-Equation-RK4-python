{
 "cells": [
  {
   "cell_type": "code",
   "execution_count": 16,
   "metadata": {},
   "outputs": [],
   "source": [
    "import numpy as np\n",
    "import matplotlib.pyplot as plt"
   ]
  },
  {
   "cell_type": "code",
   "execution_count": 17,
   "metadata": {},
   "outputs": [],
   "source": [
    "# Blasius Equation : 2 * f'''(n) + f(n) * f''(n) = 0\n",
    "# f' = G\n",
    "# G' = H\n",
    "# H' = - 0.5 * f * H\n",
    "# Boundary conditions: at n = 0, f(n) = 0, f'(n) = 0, at n = inf, f'(n) = 1\n",
    "# f(0) = 0, G(0) = 0, H(0) = not known. Instead we know G(inf) = 1\n",
    "\n",
    "# We handle this problem as Initial Value Problem approached by numerical methods \n",
    "# by Choosing h(0) such that it shoots to g(∞) = 1. Initial guesses may give \n",
    "# an error: 1 - g(∞) ≠ 0 . with subsequent iterations of numerical methods resolves \n",
    "# the error. This method is called shooting technique. \n",
    "\n",
    "# Thus we have to assume H(0) such that G(inf) = 1"
   ]
  },
  {
   "cell_type": "code",
   "execution_count": 31,
   "metadata": {},
   "outputs": [],
   "source": [
    "f0 = 0\n",
    "G0 = 0\n",
    "dn = 0.001\n",
    "n = np.arange(0, 10, 0.001)\n",
    "\n",
    "# each row of F represents [f, f', f''] or [f, G, H]\n",
    "# let's take initial value of H(0) = 1\n",
    "H0 = [0.1, 1] # take two initial values to converge to the satisfactory value in between\n",
    "HI = H0.copy()\n",
    "G = []"
   ]
  },
  {
   "cell_type": "code",
   "execution_count": 32,
   "metadata": {},
   "outputs": [],
   "source": [
    "def rk_4(F, dn):\n",
    "    for i in range(len(F) - 1):\n",
    "                k1 = np.array([dn * F[i, 1], dn * F[i, 2], -dn * F[i, 0] * F[i, 2] / 2])\n",
    "                k2 = np.array([dn * (F[i, 1] + k1[1]/2), dn*(F[i, 2] + k1[2] / 2), -dn * (F[i, 0] + k1[0] / 2) * (F[i, 2] + k1[2] / 2) / 2])\n",
    "                k3 = np.array([dn * (F[i, 1] + k2[1]/2), dn*(F[i, 2] + k2[2] / 2), -dn * (F[i, 0] + k2[0] / 2) * (F[i, 2] + k2[2] / 2) / 2])\n",
    "                k4 = np.array([dn * (F[i, 1] + k3[1]/2), dn*(F[i, 2] + k3[2] / 2), -dn * (F[i, 0] + k3[0] / 2) * (F[i, 2] + k3[2] / 2) / 2])\n",
    "                F[i + 1] = F[i] + (k1 + 2 * k2 + 2 * k3 + k4)/6\n",
    "    return F"
   ]
  },
  {
   "cell_type": "code",
   "execution_count": 33,
   "metadata": {},
   "outputs": [],
   "source": [
    "iteration = 0\n",
    "error = 1\n",
    "while error > 10**-3:\n",
    "    if iteration == 0:\n",
    "        for H in H0:\n",
    "            F = np.zeros((len(n), 3))\n",
    "            F[0] = [f0, G0, H]\n",
    "            F = rk_4(F, dn)\n",
    "            G.append(F[:, 1])\n",
    "        m1, m2 = G[0][-1], G[1][-1]\n",
    "    else:\n",
    "        H0[1] = H0[0] + (H0[1] - H0[0]) * (1 - m1) / (m2 - m1)\n",
    "        F = np.zeros((len(n), 3))\n",
    "        F[0] = [f0, G0, H0[1]]\n",
    "        F = rk_4(F, dn)\n",
    "        error = abs(1 - F[-1][1])\n",
    "        m2 = F[-1][1]\n",
    "    iteration = iteration + 1\n",
    "    "
   ]
  },
  {
   "cell_type": "code",
   "execution_count": 34,
   "metadata": {},
   "outputs": [
    {
     "data": {
      "text/plain": [
       "<matplotlib.legend.Legend at 0x27e1b15d890>"
      ]
     },
     "execution_count": 34,
     "metadata": {},
     "output_type": "execute_result"
    },
    {
     "data": {
      "image/png": "[encoded data removed]",
      "text/plain": [
       "<Figure size 640x480 with 1 Axes>"
      ]
     },
     "metadata": {},
     "output_type": "display_data"
    }
   ],
   "source": [
    "fig, ax = plt.subplots()\n",
    "ax.plot(n, G[0], label=f'H0 = {HI[0]}')\n",
    "ax.plot(n, G[1], label=f'H0 = {HI[1]}')\n",
    "ax.plot(n, F[:, 1], label=f'H0 = {F[0][2]:.4f}')\n",
    "\n",
    "ax.set_xlabel('n')  # Add an x-label to the axes.\n",
    "ax.set_ylabel('G(n)')  # Add a y-label to the axes.\n",
    "ax.set_title(\"G(n) vs n\")  # Add a title to the axes.\n",
    "ax.grid()\n",
    "ax.legend()"
   ]
  },
  {
   "cell_type": "code",
   "execution_count": 37,
   "metadata": {},
   "outputs": [
    {
     "data": {
      "text/plain": [
       "array([8.28247065e+00, 1.00048618e+00, 8.37430575e-09])"
      ]
     },
     "execution_count": 37,
     "metadata": {},
     "output_type": "execute_result"
    }
   ],
   "source": [
    "F[-1]"
   ]
  },
  {
   "cell_type": "code",
   "execution_count": 40,
   "metadata": {},
   "outputs": [
    {
     "data": {
      "text/plain": [
       "4.884"
      ]
     },
     "execution_count": 40,
     "metadata": {},
     "output_type": "execute_result"
    }
   ],
   "source": [
    "def n_at_boundary_layer(F, n):\n",
    "    for i in range(len(F)):\n",
    "        if abs(F[i][1] - 1) < 10**-2:\n",
    "            return n[i]\n",
    "\n",
    "n_at_boundary_layer(F, n)"
   ]
  }
 ],
 "metadata": {
  "kernelspec": {
   "display_name": "base",
   "language": "python",
   "name": "python3"
  },
  "language_info": {
   "codemirror_mode": {
    "name": "ipython",
    "version": 3
   },
   "file_extension": ".py",
   "mimetype": "text/x-python",
   "name": "python",
   "nbconvert_exporter": "python",
   "pygments_lexer": "ipython3",
   "version": "3.11.1"
  },
  "orig_nbformat": 4
 },
 "nbformat": 4,
 "nbformat_minor": 2
}
